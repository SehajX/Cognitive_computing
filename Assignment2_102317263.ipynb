{
  "nbformat": 4,
  "nbformat_minor": 0,
  "metadata": {
    "colab": {
      "provenance": []
    },
    "kernelspec": {
      "name": "python3",
      "display_name": "Python 3"
    },
    "language_info": {
      "name": "python"
    }
  },
  "cells": [
    {
      "cell_type": "code",
      "execution_count": 4,
      "metadata": {
        "colab": {
          "base_uri": "https://localhost:8080/"
        },
        "id": "iJb59VVQsE6a",
        "outputId": "2520c92e-e1d6-4f0e-e034-7e0efdf0f82e"
      },
      "outputs": [
        {
          "output_type": "stream",
          "name": "stdout",
          "text": [
            "Before modifying: [10, 20, 30, 40, 50, 60, 70, 80]\n",
            "After extending: [10, 20, 30, 40, 50, 60, 70, 80, 200, 300]\n",
            "After removing 10 and 30: [20, 40, 50, 60, 70, 80, 200, 300]\n",
            "Sorted in ascending order: [20, 40, 50, 60, 70, 80, 200, 300]\n",
            "Sorted in descending order: [300, 200, 80, 70, 60, 50, 40, 20]\n"
          ]
        }
      ],
      "source": [
        "L = [10, 20, 30, 40, 50, 60, 70, 80]\n",
        "extra_items = [200, 300]\n",
        "print(\"Before modifying:\", L)\n",
        "\n",
        "L += extra_items\n",
        "print(\"After extending:\", L)\n",
        "\n",
        "for item in [10, 30]:\n",
        "    if item in L:\n",
        "        L.remove(item)\n",
        "print(\"After removing 10 and 30:\", L)\n",
        "\n",
        "L = sorted(L)\n",
        "print(\"Sorted in ascending order:\", L)\n",
        "\n",
        "L = sorted(L, reverse=True)\n",
        "print(\"Sorted in descending order:\", L)"
      ]
    },
    {
      "cell_type": "code",
      "source": [
        "scores = (45, 89.5, 76, 45.4, 89, 92, 58, 45)\n",
        "highest_score = max(scores)\n",
        "lowest_score = min(scores)\n",
        "\n",
        "print(f\"Highest score: {highest_score}, Index: {scores.index(highest_score)}\")\n",
        "print(f\"Lowest score: {lowest_score}, Count: {scores.count(lowest_score)}\")\n",
        "\n",
        "reversed_scores = tuple(reversed(scores))\n",
        "print(reversed_scores)\n",
        "\n",
        "if 76 in reversed_scores:\n",
        "    print(f\"76 found at index {reversed_scores.index(76)}\")\n",
        "else:\n",
        "    print(\"76 is not in the tuple\")"
      ],
      "metadata": {
        "colab": {
          "base_uri": "https://localhost:8080/"
        },
        "id": "lPzNdwQBstZ7",
        "outputId": "417ae501-3179-40ab-a880-6e6b104d781c"
      },
      "execution_count": 6,
      "outputs": [
        {
          "output_type": "stream",
          "name": "stdout",
          "text": [
            "Highest score: 92, Index: 5\n",
            "Lowest score: 45, Count: 2\n",
            "(45, 58, 92, 89, 45.4, 76, 89.5, 45)\n",
            "76 found at index 5\n"
          ]
        }
      ]
    },
    {
      "cell_type": "code",
      "source": [
        "import random\n",
        "\n",
        "numbers = []\n",
        "odd_numbers = []\n",
        "even_numbers = []\n",
        "prime_numbers = []\n",
        "\n",
        "for _ in range(100):\n",
        "    numbers.append(random.randint(100, 900))\n",
        "\n",
        "print(f\"Generated numbers: {numbers}\")\n",
        "\n",
        "for value in numbers:\n",
        "    if value % 2 == 0:\n",
        "        even_numbers.append(value)\n",
        "    else:\n",
        "        odd_numbers.append(value)\n",
        "\n",
        "    if value > 1:\n",
        "        is_prime = True\n",
        "        for divisor in range(2, int(value ** 0.5) + 1):\n",
        "            if value % divisor == 0:\n",
        "                is_prime = False\n",
        "                break\n",
        "        if is_prime:\n",
        "            prime_numbers.append(value)\n",
        "\n",
        "print(f\"Even numbers: {even_numbers}\")\n",
        "print(f\"Odd numbers: {odd_numbers}\")\n",
        "print(f\"Prime numbers: {prime_numbers}\")\n",
        "print(f\"Count of even numbers: {len(even_numbers)}\")\n",
        "print(f\"Count of odd numbers: {len(odd_numbers)}\")\n",
        "print(f\"Count of prime numbers: {len(prime_numbers)}\")"
      ],
      "metadata": {
        "colab": {
          "base_uri": "https://localhost:8080/"
        },
        "id": "aVew7xass_0w",
        "outputId": "fa7dffc1-afe6-487f-f66c-0c139b75716d"
      },
      "execution_count": 8,
      "outputs": [
        {
          "output_type": "stream",
          "name": "stdout",
          "text": [
            "Generated numbers: [528, 530, 705, 554, 254, 500, 574, 869, 607, 586, 637, 755, 798, 468, 874, 733, 757, 213, 406, 763, 432, 458, 750, 334, 493, 400, 665, 377, 466, 654, 805, 864, 899, 112, 433, 188, 721, 517, 370, 652, 670, 601, 823, 813, 257, 223, 379, 401, 739, 328, 167, 564, 526, 574, 441, 867, 853, 677, 293, 473, 436, 805, 390, 670, 554, 374, 647, 561, 266, 588, 198, 328, 866, 187, 474, 867, 537, 741, 427, 490, 140, 806, 215, 233, 115, 874, 268, 740, 781, 811, 858, 174, 347, 617, 342, 824, 795, 383, 786, 279]\n",
            "Even numbers: [528, 530, 554, 254, 500, 574, 586, 798, 468, 874, 406, 432, 458, 750, 334, 400, 466, 654, 864, 112, 188, 370, 652, 670, 328, 564, 526, 574, 436, 390, 670, 554, 374, 266, 588, 198, 328, 866, 474, 490, 140, 806, 874, 268, 740, 858, 174, 342, 824, 786]\n",
            "Odd numbers: [705, 869, 607, 637, 755, 733, 757, 213, 763, 493, 665, 377, 805, 899, 433, 721, 517, 601, 823, 813, 257, 223, 379, 401, 739, 167, 441, 867, 853, 677, 293, 473, 805, 647, 561, 187, 867, 537, 741, 427, 215, 233, 115, 781, 811, 347, 617, 795, 383, 279]\n",
            "Prime numbers: [607, 733, 757, 433, 601, 823, 257, 223, 379, 401, 739, 167, 853, 677, 293, 647, 233, 811, 347, 617, 383]\n",
            "Count of even numbers: 50\n",
            "Count of odd numbers: 50\n",
            "Count of prime numbers: 21\n"
          ]
        }
      ]
    },
    {
      "cell_type": "code",
      "source": [
        "set_a = {34, 56, 78, 90}\n",
        "set_b = {78, 45, 90, 23}\n",
        "\n",
        "print(f\"Union of sets: {set_a | set_b}\")\n",
        "print(f\"Intersection of sets: {set_a & set_b}\")\n",
        "print(f\"Symmetric difference of sets: {set_a ^ set_b}\")\n",
        "print(f\"Is set A a subset of set B? {set_a <= set_b}\")\n",
        "print(f\"Is set B a superset of set A? {set_b >= set_a}\")\n",
        "\n",
        "number = int(input(\"Enter a number: \"))\n",
        "if number in set_a:\n",
        "    set_a.discard(number)\n",
        "    print(f\"Number {number} removed from set A. Updated set A: {set_a}\")\n",
        "else:\n",
        "    print(f\"Number {number} is not found in set A.\")"
      ],
      "metadata": {
        "colab": {
          "base_uri": "https://localhost:8080/"
        },
        "id": "fX9Js7y9ujQw",
        "outputId": "0cdd38a7-2de8-41e7-b668-217bdf31c263"
      },
      "execution_count": 10,
      "outputs": [
        {
          "output_type": "stream",
          "name": "stdout",
          "text": [
            "Union of sets: {34, 45, 78, 23, 56, 90}\n",
            "Intersection of sets: {90, 78}\n",
            "Symmetric difference of sets: {34, 45, 23, 56}\n",
            "Is set A a subset of set B? False\n",
            "Is set B a superset of set A? False\n",
            "Enter a number: 78\n",
            "Number 78 removed from set A. Updated set A: {56, 34, 90}\n"
          ]
        }
      ]
    },
    {
      "cell_type": "code",
      "source": [
        "sample_dict = {\n",
        "  \"name\": \"Kelly\",\n",
        "  \"age\": 25,\n",
        "  \"salary\": 8000,\n",
        "  \"city\": \"New york\"\n",
        "}\n",
        "city = sample_dict[\"city\"]\n",
        "sample_dict.pop(\"city\")\n",
        "sample_dict[\"location\"] = city\n",
        "print(sample_dict)"
      ],
      "metadata": {
        "colab": {
          "base_uri": "https://localhost:8080/"
        },
        "id": "FrJq5dh_usEa",
        "outputId": "034e43c8-2f06-4a07-d0ad-78ae45037fb2"
      },
      "execution_count": 11,
      "outputs": [
        {
          "output_type": "stream",
          "name": "stdout",
          "text": [
            "{'name': 'Kelly', 'age': 25, 'salary': 8000, 'location': 'New york'}\n"
          ]
        }
      ]
    }
  ]
}